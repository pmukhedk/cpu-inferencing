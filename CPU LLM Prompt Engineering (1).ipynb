{
 "cells": [
  {
   "cell_type": "code",
   "execution_count": null,
   "id": "73b320c7-a83c-470d-941b-cb4d060c619c",
   "metadata": {
    "tags": []
   },
   "outputs": [],
   "source": [
    "!pip install openai"
   ]
  },
  {
   "cell_type": "code",
   "execution_count": null,
   "id": "64de6583-543a-4780-87cd-a2e88be6dc17",
   "metadata": {
    "tags": []
   },
   "outputs": [],
   "source": [
    "!pip install ollama"
   ]
  },
  {
   "cell_type": "code",
   "execution_count": null,
   "id": "81585cf7-7dee-4a46-949b-02178e2f4c5f",
   "metadata": {},
   "outputs": [],
   "source": [
    "## Few-Shot Prompting example"
   ]
  },
  {
   "cell_type": "code",
   "execution_count": null,
   "id": "f684e6bc-3f30-4964-9188-1d8fe391be70",
   "metadata": {},
   "outputs": [],
   "source": [
    "## Single-Shot Prompting example"
   ]
  },
  {
   "cell_type": "code",
   "execution_count": null,
   "id": "35694ece-f0e9-4f9c-bc3d-aba1f8529532",
   "metadata": {
    "tags": []
   },
   "outputs": [],
   "source": [
    "from openai import OpenAI\n",
    "\n",
    "client = OpenAI(\n",
    "    base_url = 'https://granite8-moe-4-qunatized.cpuinferencing.svc.cluster.local/v1',\n",
    "    api_key='ollama', # required, but unused\n",
    ")\n",
    "\n",
    "response = client.chat.completions.create(\n",
    "  model=\"granite3-moe:1b\",\n",
    "  messages=[\n",
    "    {\"role\": \"system\", \"content\": \"You are a helpful assistant.\"},\n",
    "    {\"role\": \"user\", \"content\": \"write an essay on roadsefety in india\"},\n",
    "  ]\n",
    ")\n",
    "print(response.choices[0].message.content)"
   ]
  },
  {
   "cell_type": "code",
   "execution_count": null,
   "id": "1f26e283-7701-45b9-ac04-d424a424a809",
   "metadata": {},
   "outputs": [],
   "source": [
    "## Math Problem Solver"
   ]
  },
  {
   "cell_type": "code",
   "execution_count": null,
   "id": "aeb39e8c-53e5-4a7f-a625-642c7ea6f457",
   "metadata": {
    "tags": []
   },
   "outputs": [],
   "source": [
    "from openai import OpenAI\n",
    "\n",
    "client = OpenAI(\n",
    "    base_url = 'https://granite8-moe-4-qunatized.cpuinferencing.svc.cluster.local/v1',\n",
    "    api_key='ollama', # required, but unused\n",
    ")\n",
    "\n",
    "response = client.chat.completions.create(\n",
    "  model=\"llama2:latest\",\n",
    "  messages=[\n",
    "    {\"role\": \"system\", \"content\": \"You are a math expert.\"},\n",
    "    {\"role\": \"user\", \"content\": \"Can you solve 12 * 8 + 15?\"},\n",
    "  ]\n",
    ")\n",
    "print(response.choices[0].message.content)\n"
   ]
  },
  {
   "cell_type": "code",
   "execution_count": null,
   "id": "4be6a5dc-c176-446a-b792-af1cc08145a0",
   "metadata": {},
   "outputs": [],
   "source": [
    "## Translate a Sentence\n"
   ]
  },
  {
   "cell_type": "code",
   "execution_count": null,
   "id": "b664e3bc-10fd-4d32-b5e0-0ccdb53772bf",
   "metadata": {
    "tags": []
   },
   "outputs": [],
   "source": [
    "from openai import OpenAI\n",
    "\n",
    "client = OpenAI(\n",
    "    base_url = 'http://ollama-route-ollama.apps.cluster-dr48f.dr48f.sandbox2558.opentlc.com/v1',\n",
    "    api_key='ollama', # required, but unused\n",
    ")\n",
    "\n",
    "response = client.chat.completions.create(\n",
    "  model=\"llama2:latest\",\n",
    "  messages=[\n",
    "    {\"role\": \"system\", \"content\": \"You are a language translator.\"},\n",
    "    {\"role\": \"user\", \"content\": \"Translate 'Hello, how are you?' into Hindi.\"},\n",
    "  ]\n",
    ")\n",
    "print(response.choices[0].message.content)\n"
   ]
  },
  {
   "cell_type": "code",
   "execution_count": null,
   "id": "061156ea-0566-4a8e-b4d3-289d65d2e91e",
   "metadata": {},
   "outputs": [],
   "source": [
    "## Text Summarization Example using llama2\n"
   ]
  },
  {
   "cell_type": "code",
   "execution_count": null,
   "id": "eb52d0d5-bdad-4822-b554-98baeb42b4a0",
   "metadata": {
    "tags": []
   },
   "outputs": [],
   "source": [
    "from openai import OpenAI\n",
    "\n",
    "client = OpenAI(\n",
    "    base_url = 'http://ollama-route-ollama.apps.cluster-dr48f.dr48f.sandbox2558.opentlc.com/v1',\n",
    "    api_key='ollama', # required, but unused\n",
    ")\n",
    "\n",
    "response = client.chat.completions.create(\n",
    "  model=\"llama2:latest\",\n",
    "  messages=[\n",
    "    {\"role\": \"system\", \"content\": \"You are an expert at summarizing long texts.\"},\n",
    "    {\"role\": \"user\", \"content\": \"Summarize the following text: 'Artificial Intelligence (AI) is a field of computer science that focuses on creating intelligent machines capable of performing tasks that typically require human intelligence. AI encompasses a variety of technologies, including machine learning, deep learning, natural language processing, and robotics. It is used in various industries, such as healthcare, finance, and transportation, to improve efficiency and solve complex problems. Over the past few decades, AI has made significant progress, but there are still challenges to overcome, such as ethical concerns and ensuring that AI systems are transparent and fair.'\"},\n",
    "  ]\n",
    ")\n",
    "print(response.choices[0].message.content)\n"
   ]
  },
  {
   "cell_type": "code",
   "execution_count": null,
   "id": "7181e3fd-f720-4a52-ab89-0e8a5ae62983",
   "metadata": {},
   "outputs": [],
   "source": [
    "## Text Summarization Example using Mistral\n"
   ]
  },
  {
   "cell_type": "code",
   "execution_count": null,
   "id": "944d54c1-fb9a-4ea6-9699-ba00f155c685",
   "metadata": {},
   "outputs": [],
   "source": [
    "vllm.vllm.svc.cluster.local"
   ]
  },
  {
   "cell_type": "code",
   "execution_count": null,
   "id": "ce666c92-28c5-4b9b-ad7e-49ea28a7f138",
   "metadata": {
    "tags": []
   },
   "outputs": [],
   "source": [
    "!curl http://vllm.vllm.svc.cluster.local:8000//v1/models \\\n",
    "  -H 'accept: application/json'"
   ]
  },
  {
   "cell_type": "code",
   "execution_count": null,
   "id": "0e60692e-9335-44a3-87bd-dbc222cb1969",
   "metadata": {
    "tags": []
   },
   "outputs": [],
   "source": [
    "!curl -X 'GET' \\\n",
    "  'http://tinyllama-vllm.apps.mno.example.com/v1/models' \\\n",
    "  -H 'accept: application/json"
   ]
  },
  {
   "cell_type": "code",
   "execution_count": null,
   "id": "6dc0f78a-44c1-41a4-9a4e-c22dd22c0111",
   "metadata": {},
   "outputs": [],
   "source": []
  },
  {
   "cell_type": "code",
   "execution_count": null,
   "id": "2d50ba66-9c92-42f6-89b8-3fb55124b623",
   "metadata": {},
   "outputs": [],
   "source": []
  },
  {
   "cell_type": "code",
   "execution_count": null,
   "id": "7e60771f-fdda-49b8-9fea-99c56f0851ef",
   "metadata": {},
   "outputs": [],
   "source": []
  },
  {
   "cell_type": "code",
   "execution_count": null,
   "id": "2d687500-e1f5-4da1-9c00-cd33b7013e31",
   "metadata": {},
   "outputs": [],
   "source": []
  },
  {
   "cell_type": "code",
   "execution_count": null,
   "id": "4bc275fd-90ab-4c82-a85d-c717dc369f38",
   "metadata": {
    "tags": []
   },
   "outputs": [],
   "source": [
    "from openai import OpenAI\n",
    "\n",
    "client = OpenAI(\n",
    "    base_url = 'http://ollama-route-ollama.apps.cluster-dr48f.dr48f.sandbox2558.opentlc.com/v1',\n",
    "    api_key='ollama', # required, but unused\n",
    ")\n",
    "\n",
    "response = client.chat.completions.create(\n",
    "  model=\"instructlab/granite-7b-lab:latest\",\n",
    "  messages=[\n",
    "    {\"role\": \"system\", \"content\": \"You are an expert at summarizing long texts.\"},\n",
    "    {\"role\": \"user\", \"content\": \"Summarize the following text: 'Artificial Intelligence (AI) is a field of computer science that focuses on creating intelligent machines capable of performing tasks that typically require human intelligence. AI encompasses a variety of technologies, including machine learning, deep learning, natural language processing, and robotics. It is used in various industries, such as healthcare, finance, and transportation, to improve efficiency and solve complex problems. Over the past few decades, AI has made significant progress, but there are still challenges to overcome, such as ethical concerns and ensuring that AI systems are transparent and fair.'\"},\n",
    "  ]\n",
    ")\n",
    "print(response.choices[0].message.content)\n"
   ]
  }
 ],
 "metadata": {
  "kernelspec": {
   "display_name": "Python 3.9",
   "language": "python",
   "name": "python3"
  },
  "language_info": {
   "codemirror_mode": {
    "name": "ipython",
    "version": 3
   },
   "file_extension": ".py",
   "mimetype": "text/x-python",
   "name": "python",
   "nbconvert_exporter": "python",
   "pygments_lexer": "ipython3",
   "version": "3.9.16"
  }
 },
 "nbformat": 4,
 "nbformat_minor": 5
}
